{
 "cells": [
  {
   "cell_type": "code",
   "execution_count": 4,
   "id": "9933c3e4-79dd-4620-95db-4829e940efd0",
   "metadata": {},
   "outputs": [
    {
     "name": "stdout",
     "output_type": "stream",
     "text": [
      "Requirement already satisfied: dash in c:\\users\\welcome\\appdata\\local\\programs\\python\\python312\\lib\\site-packages (3.0.4)\n",
      "Requirement already satisfied: plotly in c:\\users\\welcome\\appdata\\local\\programs\\python\\python312\\lib\\site-packages (6.0.0)\n",
      "Requirement already satisfied: Flask<3.1,>=1.0.4 in c:\\users\\welcome\\appdata\\local\\programs\\python\\python312\\lib\\site-packages (from dash) (3.0.3)\n",
      "Requirement already satisfied: Werkzeug<3.1 in c:\\users\\welcome\\appdata\\local\\programs\\python\\python312\\lib\\site-packages (from dash) (3.0.6)\n",
      "Requirement already satisfied: importlib-metadata in c:\\users\\welcome\\appdata\\local\\programs\\python\\python312\\lib\\site-packages (from dash) (8.7.0)\n",
      "Requirement already satisfied: typing-extensions>=4.1.1 in c:\\users\\welcome\\appdata\\local\\programs\\python\\python312\\lib\\site-packages (from dash) (4.12.2)\n",
      "Requirement already satisfied: requests in c:\\users\\welcome\\appdata\\local\\programs\\python\\python312\\lib\\site-packages (from dash) (2.32.3)\n",
      "Requirement already satisfied: retrying in c:\\users\\welcome\\appdata\\local\\programs\\python\\python312\\lib\\site-packages (from dash) (1.3.4)\n",
      "Requirement already satisfied: nest-asyncio in c:\\users\\welcome\\appdata\\local\\programs\\python\\python312\\lib\\site-packages (from dash) (1.6.0)\n",
      "Requirement already satisfied: setuptools in c:\\users\\welcome\\appdata\\local\\programs\\python\\python312\\lib\\site-packages (from dash) (74.0.0)\n",
      "Requirement already satisfied: narwhals>=1.15.1 in c:\\users\\welcome\\appdata\\local\\programs\\python\\python312\\lib\\site-packages (from plotly) (1.25.2)\n",
      "Requirement already satisfied: packaging in c:\\users\\welcome\\appdata\\local\\programs\\python\\python312\\lib\\site-packages (from plotly) (24.1)\n",
      "Requirement already satisfied: Jinja2>=3.1.2 in c:\\users\\welcome\\appdata\\local\\programs\\python\\python312\\lib\\site-packages (from Flask<3.1,>=1.0.4->dash) (3.1.4)\n",
      "Requirement already satisfied: itsdangerous>=2.1.2 in c:\\users\\welcome\\appdata\\local\\programs\\python\\python312\\lib\\site-packages (from Flask<3.1,>=1.0.4->dash) (2.2.0)\n",
      "Requirement already satisfied: click>=8.1.3 in c:\\users\\welcome\\appdata\\local\\programs\\python\\python312\\lib\\site-packages (from Flask<3.1,>=1.0.4->dash) (8.2.0)\n",
      "Requirement already satisfied: blinker>=1.6.2 in c:\\users\\welcome\\appdata\\local\\programs\\python\\python312\\lib\\site-packages (from Flask<3.1,>=1.0.4->dash) (1.9.0)\n",
      "Requirement already satisfied: MarkupSafe>=2.1.1 in c:\\users\\welcome\\appdata\\local\\programs\\python\\python312\\lib\\site-packages (from Werkzeug<3.1->dash) (2.1.5)\n",
      "Requirement already satisfied: zipp>=3.20 in c:\\users\\welcome\\appdata\\local\\programs\\python\\python312\\lib\\site-packages (from importlib-metadata->dash) (3.21.0)\n",
      "Requirement already satisfied: charset-normalizer<4,>=2 in c:\\users\\welcome\\appdata\\local\\programs\\python\\python312\\lib\\site-packages (from requests->dash) (3.3.2)\n",
      "Requirement already satisfied: idna<4,>=2.5 in c:\\users\\welcome\\appdata\\local\\programs\\python\\python312\\lib\\site-packages (from requests->dash) (3.8)\n",
      "Requirement already satisfied: urllib3<3,>=1.21.1 in c:\\users\\welcome\\appdata\\local\\programs\\python\\python312\\lib\\site-packages (from requests->dash) (2.2.2)\n",
      "Requirement already satisfied: certifi>=2017.4.17 in c:\\users\\welcome\\appdata\\local\\programs\\python\\python312\\lib\\site-packages (from requests->dash) (2024.7.4)\n",
      "Requirement already satisfied: six>=1.7.0 in c:\\users\\welcome\\appdata\\local\\programs\\python\\python312\\lib\\site-packages (from retrying->dash) (1.16.0)\n",
      "Requirement already satisfied: colorama in c:\\users\\welcome\\appdata\\local\\programs\\python\\python312\\lib\\site-packages (from click>=8.1.3->Flask<3.1,>=1.0.4->dash) (0.4.6)\n"
     ]
    },
    {
     "name": "stderr",
     "output_type": "stream",
     "text": [
      "\n",
      "[notice] A new release of pip is available: 25.0.1 -> 25.1.1\n",
      "[notice] To update, run: C:\\Users\\WELCOME\\AppData\\Local\\Programs\\Python\\Python312\\python.exe -m pip install --upgrade pip\n"
     ]
    }
   ],
   "source": [
    "!pip install dash plotly"
   ]
  },
  {
   "cell_type": "code",
   "execution_count": 9,
   "id": "6f98086a-8a21-4952-8a1f-bdd4918df980",
   "metadata": {},
   "outputs": [],
   "source": [
    "import pandas as pd\n",
    "import plotly.express as px\n",
    "import dash\n",
    "from dash import dcc, html\n",
    "from dash.dependencies import Input, Output\n",
    "import plotly.figure_factory as ff"
   ]
  },
  {
   "cell_type": "code",
   "execution_count": 15,
   "id": "b286d19a-dab1-4e2c-8ae8-565dcb6a43f4",
   "metadata": {},
   "outputs": [
    {
     "data": {
      "text/html": [
       "\n",
       "        <iframe\n",
       "            width=\"100%\"\n",
       "            height=\"650\"\n",
       "            src=\"http://127.0.0.1:8050/\"\n",
       "            frameborder=\"0\"\n",
       "            allowfullscreen\n",
       "            \n",
       "        ></iframe>\n",
       "        "
      ],
      "text/plain": [
       "<IPython.lib.display.IFrame at 0x2d011071eb0>"
      ]
     },
     "metadata": {},
     "output_type": "display_data"
    }
   ],
   "source": [
    "# load Dataset\n",
    "df = pd.read_csv('D:/data_analyst/AnalyticsProjects/projects/employee_data.csv')\n",
    "\n",
    "# Define a list of specific features\n",
    "selected_columns = ['MonthlyIncome', 'Age', 'TotalWorkingYears', 'YearsAtCompany', 'Attrition']\n",
    "\n",
    "# Compute correlation matrix for only selected columns\n",
    "corr_matrix = df[selected_columns].corr().round(2)\n",
    "\n",
    "# Create the heatmap\n",
    "fig_corr = ff.create_annotated_heatmap(\n",
    "    z=corr_matrix.values,\n",
    "    x=list(corr_matrix.columns),\n",
    "    y=list(corr_matrix.index),\n",
    "    colorscale='Viridis',\n",
    "    showscale=True\n",
    ")\n",
    "\n",
    "\n",
    "# Create app\n",
    "app = dash.Dash(__name__)\n",
    "app.title = 'Employee Attrition Dashboard'\n",
    "\n",
    "app.layout = html.Div([\n",
    "    html.H1(\"Employee Attrition Dashboard\", style={\"textAlign\": \"center\"}),\n",
    "\n",
    "    html.Div([\n",
    "        html.Label('Select Feature:'),\n",
    "        dcc.Dropdown(\n",
    "            id='feature-dropdown',\n",
    "            options=[\n",
    "                {'label': 'Department - R&D', 'value': 'Department_Research & Development'},\n",
    "                {'label': 'Job Role - Research Scientist', 'value': 'JobRole_Research Scientist'},\n",
    "                {'label': 'Gender (Male)', 'value': 'Gender_Male'},\n",
    "                {'label': 'OverTime', 'value': 'OverTime'},\n",
    "            ],\n",
    "            value='OverTime'\n",
    "        )\n",
    "    ], style={\"width\": \"50%\", \"margin\": \"auto\"}),\n",
    "\n",
    "    dcc.Graph(id='bar-chart'),\n",
    "\n",
    "    html.H2(\"Attrition Distribution\"),\n",
    "    dcc.Graph(figure=px.histogram(df, x='Attrition', title='Attrition Count')),\n",
    "\n",
    "    html.H2(\"Monthly Income Distribution\"),\n",
    "    dcc.Graph(figure=px.histogram(df, x='MonthlyIncome', nbins=50, title='Income Distribution')),\n",
    "\n",
    "    html.H2(\"Job Satisfaction Distribution\"),\n",
    "    dcc.Graph(figure=px.histogram(df, x='JobSatisfaction', nbins=4, title='Job Satisfaction Levels')),\n",
    "\n",
    "    html.H2(\"Attrition by Age\"),\n",
    "    dcc.Graph(figure=px.histogram(df, x='Age', color='Attrition', barmode='overlay', title='Attrition Across Age Groups')),\n",
    "\n",
    "    html.H2(\"Monthly Income vs. Attrition\"),\n",
    "    dcc.Graph(figure=px.box(df, x='Attrition', y='MonthlyIncome', title='Income Distribution by Attrition')),\n",
    "\n",
    "    html.H2(\"Correlation Heatmap for Selected Features\"),\n",
    "    dcc.Graph(figure=fig_corr)\n",
    "])\n",
    "\n",
    "# Callback to update dynamic bar chart\n",
    "\n",
    "@app.callback(\n",
    "    Output('bar-chart', 'figure'),\n",
    "    [Input('feature-dropdown', 'value')]\n",
    ")\n",
    "def update_chart(selected_feature):\n",
    "    fig = px.histogram(df, x=selected_feature, color=df['Attrition'].map({0: 'No', 1: 'Yes'}), barmode='group',\n",
    "                       title=f'Attrition by {selected_feature}')\n",
    "    return fig\n",
    "\n",
    "if __name__ == '__main__':\n",
    "    app.run(debug=True)\n"
   ]
  },
  {
   "cell_type": "code",
   "execution_count": null,
   "id": "8dcf7ba6-1cf0-417a-ab22-cccbe5e98cf0",
   "metadata": {},
   "outputs": [],
   "source": []
  }
 ],
 "metadata": {
  "kernelspec": {
   "display_name": "Python 3 (ipykernel)",
   "language": "python",
   "name": "python3"
  },
  "language_info": {
   "codemirror_mode": {
    "name": "ipython",
    "version": 3
   },
   "file_extension": ".py",
   "mimetype": "text/x-python",
   "name": "python",
   "nbconvert_exporter": "python",
   "pygments_lexer": "ipython3",
   "version": "3.12.3"
  }
 },
 "nbformat": 4,
 "nbformat_minor": 5
}
